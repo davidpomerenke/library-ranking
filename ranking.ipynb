{
  "cells": [
    {
      "cell_type": "raw",
      "metadata": {},
      "source": [
        "---\n",
        "title: \"World University Library Ranking\"\n",
        "author: David Pomerenke\n",
        "date: \"2022-08-03\"\n",
        "reference-location: margin\n",
        "citation-location: margin\n",
        "---"
      ],
      "id": "b3a1d129"
    },
    {
      "cell_type": "markdown",
      "metadata": {},
      "source": [
        "With the exception of the [Nando's Excellence Framework](https://bantshire.github.io/blog-nandos.html), university ratings tend to be bullshit. Nonetheless, I give it another shot and rank universities by how long their library is open. -- It turns out that 70% of \"universities\" have their libraries closed more than half of the time, and a mere 6% are open all the time.\n",
        "\n",
        "## Method\n",
        "\n",
        "Opening times are retrieved via Google Maps for all universities in the racist list of BS World University Ratings^[Officially, [_QS_ World University Rankings](https://www.topuniversities.com/university-rankings/world-university-rankings/2023).] and converted to percentages. Where there are multiple libraries, the one with the longest opening hours is selected. User ratings are also retrieved via Google Maps and reranked using [Bayesian averaging](https://www.algolia.com/doc/guides/managing-results/must-do/custom-ranking/how-to/bayesian-average/). The table is sorted by opening hours first, and by ratings second.\n",
        "\n",
        "There are limitations, and they seem acceptable: Arguably, most opening hours on Google Maps are accurate. The main problem is the retrieval of all relevant libraries. Faculties may have additional subject-specific libraries and in some fancy collegiate unis the dormitories may have their own libraries, and neither may be found on Google Maps by searching for \"\\<university name\\> Library\", as done here. Google Maps ratings are not very reliable, but at least there is little reason to assume they are manipulated like other online ratings, and they are only used for seconday sorting.\n",
        "\n",
        "Code and data are available [on Github](https://github.com/davidpomerenke/library-ranking).\n"
      ],
      "id": "b1c43e95"
    },
    {
      "cell_type": "code",
      "metadata": {},
      "source": [
        "#| echo: false\n",
        "#| label: fig-cap-margin\n",
        "#| fig-cap: 'QS rank vs opening hours (1.0=always). Left: All universities. Right: Only top 100 QS ranked universities. There is no clear correlation.'\n",
        "#| fig-cap-location: margin\n",
        "\n",
        "import pandas as pd\n",
        "import matplotlib.pyplot as plt\n",
        "import seaborn as sns\n",
        "\n",
        "df = pd.read_csv(\"data_out/ranking.csv\")\n",
        "df1 = df.copy()\n",
        "df1 = df1[df1[\"qs_rank\"] != \"?\"]\n",
        "df1[\"qs_rank\"] = df1[\"qs_rank\"].astype(float)\n",
        "fig, ax = plt.subplots(1, 2)\n",
        "sns.regplot(data=df1, x=\"qs_rank\", y=\"opening_hours\", ax=ax[0])\n",
        "ax[0].set(xlim=(len(df), 1))\n",
        "df1 = df1[df1[\"qs_rank\"] <= 100]\n",
        "sns.regplot(data=df1, x=\"qs_rank\", y=\"opening_hours\", ax=ax[1])\n",
        "ax[1].set(xlim=(100, 1))\n",
        "plt.show()"
      ],
      "id": "fig-cap-margin",
      "execution_count": null,
      "outputs": []
    },
    {
      "cell_type": "markdown",
      "metadata": {},
      "source": [
        "## Rankings\n",
        "\n",
        "Use `CTRL` + `F` to search.\n"
      ],
      "id": "5a978d90"
    },
    {
      "cell_type": "code",
      "metadata": {},
      "source": [
        "#| echo: false\n",
        "#| column: page\n",
        "from IPython.display import HTML\n",
        "pd.set_option('display.max_rows', None)\n",
        "df[\"opening_hours\"] = df[\"opening_hours\"].apply(lambda x: str(int(x*100))+\"%\")\n",
        "df.drop(columns=[\"gmaps_rating\"])\n",
        "display(HTML(df[[\"rank\", \"opening_hours\", \"gmaps_rating\", \"library\", \"uni\"]].to_html(index=False)))"
      ],
      "id": "274cda39",
      "execution_count": null,
      "outputs": []
    }
  ],
  "metadata": {
    "kernelspec": {
      "name": "python3",
      "language": "python",
      "display_name": "Python 3 (ipykernel)"
    }
  },
  "nbformat": 4,
  "nbformat_minor": 5
}